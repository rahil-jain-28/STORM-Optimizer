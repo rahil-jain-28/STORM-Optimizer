{
  "nbformat": 4,
  "nbformat_minor": 0,
  "metadata": {
    "colab": {
      "name": "CIFAR10_Analysis.ipynb",
      "provenance": [],
      "collapsed_sections": []
    },
    "kernelspec": {
      "name": "python3",
      "display_name": "Python 3"
    },
    "accelerator": "GPU",
    "widgets": {
      "application/vnd.jupyter.widget-state+json": {
        "e998ca9788954608a16abb14e7f21244": {
          "model_module": "@jupyter-widgets/controls",
          "model_name": "HBoxModel",
          "state": {
            "_view_name": "HBoxView",
            "_dom_classes": [],
            "_model_name": "HBoxModel",
            "_view_module": "@jupyter-widgets/controls",
            "_model_module_version": "1.5.0",
            "_view_count": null,
            "_view_module_version": "1.5.0",
            "box_style": "",
            "layout": "IPY_MODEL_5df4d301cf6b448e817316b422a2d741",
            "_model_module": "@jupyter-widgets/controls",
            "children": [
              "IPY_MODEL_02fd84a4f8814d7d8b88e509aa0cf70b",
              "IPY_MODEL_b4ba4c74189c456f848ef893a716c216"
            ]
          }
        },
        "5df4d301cf6b448e817316b422a2d741": {
          "model_module": "@jupyter-widgets/base",
          "model_name": "LayoutModel",
          "state": {
            "_view_name": "LayoutView",
            "grid_template_rows": null,
            "right": null,
            "justify_content": null,
            "_view_module": "@jupyter-widgets/base",
            "overflow": null,
            "_model_module_version": "1.2.0",
            "_view_count": null,
            "flex_flow": null,
            "width": null,
            "min_width": null,
            "border": null,
            "align_items": null,
            "bottom": null,
            "_model_module": "@jupyter-widgets/base",
            "top": null,
            "grid_column": null,
            "overflow_y": null,
            "overflow_x": null,
            "grid_auto_flow": null,
            "grid_area": null,
            "grid_template_columns": null,
            "flex": null,
            "_model_name": "LayoutModel",
            "justify_items": null,
            "grid_row": null,
            "max_height": null,
            "align_content": null,
            "visibility": null,
            "align_self": null,
            "height": null,
            "min_height": null,
            "padding": null,
            "grid_auto_rows": null,
            "grid_gap": null,
            "max_width": null,
            "order": null,
            "_view_module_version": "1.2.0",
            "grid_template_areas": null,
            "object_position": null,
            "object_fit": null,
            "grid_auto_columns": null,
            "margin": null,
            "display": null,
            "left": null
          }
        },
        "02fd84a4f8814d7d8b88e509aa0cf70b": {
          "model_module": "@jupyter-widgets/controls",
          "model_name": "FloatProgressModel",
          "state": {
            "_view_name": "ProgressView",
            "style": "IPY_MODEL_5591cc9e8d5847d4aa05d8889664206b",
            "_dom_classes": [],
            "description": "",
            "_model_name": "FloatProgressModel",
            "bar_style": "info",
            "max": 1,
            "_view_module": "@jupyter-widgets/controls",
            "_model_module_version": "1.5.0",
            "value": 1,
            "_view_count": null,
            "_view_module_version": "1.5.0",
            "orientation": "horizontal",
            "min": 0,
            "description_tooltip": null,
            "_model_module": "@jupyter-widgets/controls",
            "layout": "IPY_MODEL_2e549ba9bf5e4f139928c73836cd9278"
          }
        },
        "b4ba4c74189c456f848ef893a716c216": {
          "model_module": "@jupyter-widgets/controls",
          "model_name": "HTMLModel",
          "state": {
            "_view_name": "HTMLView",
            "style": "IPY_MODEL_2a879a41246648eb84de262144324773",
            "_dom_classes": [],
            "description": "",
            "_model_name": "HTMLModel",
            "placeholder": "​",
            "_view_module": "@jupyter-widgets/controls",
            "_model_module_version": "1.5.0",
            "value": " 170500096/? [00:30&lt;00:00, 31550914.93it/s]",
            "_view_count": null,
            "_view_module_version": "1.5.0",
            "description_tooltip": null,
            "_model_module": "@jupyter-widgets/controls",
            "layout": "IPY_MODEL_6edc88a3d4f749ab90bba95a33c1bc23"
          }
        },
        "5591cc9e8d5847d4aa05d8889664206b": {
          "model_module": "@jupyter-widgets/controls",
          "model_name": "ProgressStyleModel",
          "state": {
            "_view_name": "StyleView",
            "_model_name": "ProgressStyleModel",
            "description_width": "initial",
            "_view_module": "@jupyter-widgets/base",
            "_model_module_version": "1.5.0",
            "_view_count": null,
            "_view_module_version": "1.2.0",
            "bar_color": null,
            "_model_module": "@jupyter-widgets/controls"
          }
        },
        "2e549ba9bf5e4f139928c73836cd9278": {
          "model_module": "@jupyter-widgets/base",
          "model_name": "LayoutModel",
          "state": {
            "_view_name": "LayoutView",
            "grid_template_rows": null,
            "right": null,
            "justify_content": null,
            "_view_module": "@jupyter-widgets/base",
            "overflow": null,
            "_model_module_version": "1.2.0",
            "_view_count": null,
            "flex_flow": null,
            "width": null,
            "min_width": null,
            "border": null,
            "align_items": null,
            "bottom": null,
            "_model_module": "@jupyter-widgets/base",
            "top": null,
            "grid_column": null,
            "overflow_y": null,
            "overflow_x": null,
            "grid_auto_flow": null,
            "grid_area": null,
            "grid_template_columns": null,
            "flex": null,
            "_model_name": "LayoutModel",
            "justify_items": null,
            "grid_row": null,
            "max_height": null,
            "align_content": null,
            "visibility": null,
            "align_self": null,
            "height": null,
            "min_height": null,
            "padding": null,
            "grid_auto_rows": null,
            "grid_gap": null,
            "max_width": null,
            "order": null,
            "_view_module_version": "1.2.0",
            "grid_template_areas": null,
            "object_position": null,
            "object_fit": null,
            "grid_auto_columns": null,
            "margin": null,
            "display": null,
            "left": null
          }
        },
        "2a879a41246648eb84de262144324773": {
          "model_module": "@jupyter-widgets/controls",
          "model_name": "DescriptionStyleModel",
          "state": {
            "_view_name": "StyleView",
            "_model_name": "DescriptionStyleModel",
            "description_width": "",
            "_view_module": "@jupyter-widgets/base",
            "_model_module_version": "1.5.0",
            "_view_count": null,
            "_view_module_version": "1.2.0",
            "_model_module": "@jupyter-widgets/controls"
          }
        },
        "6edc88a3d4f749ab90bba95a33c1bc23": {
          "model_module": "@jupyter-widgets/base",
          "model_name": "LayoutModel",
          "state": {
            "_view_name": "LayoutView",
            "grid_template_rows": null,
            "right": null,
            "justify_content": null,
            "_view_module": "@jupyter-widgets/base",
            "overflow": null,
            "_model_module_version": "1.2.0",
            "_view_count": null,
            "flex_flow": null,
            "width": null,
            "min_width": null,
            "border": null,
            "align_items": null,
            "bottom": null,
            "_model_module": "@jupyter-widgets/base",
            "top": null,
            "grid_column": null,
            "overflow_y": null,
            "overflow_x": null,
            "grid_auto_flow": null,
            "grid_area": null,
            "grid_template_columns": null,
            "flex": null,
            "_model_name": "LayoutModel",
            "justify_items": null,
            "grid_row": null,
            "max_height": null,
            "align_content": null,
            "visibility": null,
            "align_self": null,
            "height": null,
            "min_height": null,
            "padding": null,
            "grid_auto_rows": null,
            "grid_gap": null,
            "max_width": null,
            "order": null,
            "_view_module_version": "1.2.0",
            "grid_template_areas": null,
            "object_position": null,
            "object_fit": null,
            "grid_auto_columns": null,
            "margin": null,
            "display": null,
            "left": null
          }
        }
      }
    }
  },
  "cells": [
    {
      "cell_type": "code",
      "metadata": {
        "id": "eEbxDH3CY0jk",
        "colab_type": "code",
        "colab": {
          "base_uri": "https://localhost:8080/",
          "height": 34
        },
        "outputId": "34e7489e-da79-49da-a656-36828da36ef0"
      },
      "source": [
        "import torch\n",
        "import numpy as np\n",
        "import time\n",
        "\n",
        "# check if CUDA is available\n",
        "train_on_gpu = torch.cuda.is_available()\n",
        "\n",
        "if not train_on_gpu:\n",
        "    print('CUDA is not available.  Training on CPU ...')\n",
        "else:\n",
        "    print('CUDA is available!  Training on GPU ...')"
      ],
      "execution_count": null,
      "outputs": [
        {
          "output_type": "stream",
          "text": [
            "CUDA is available!  Training on GPU ...\n"
          ],
          "name": "stdout"
        }
      ]
    },
    {
      "cell_type": "code",
      "metadata": {
        "id": "bC2b_0nFeGqL",
        "colab_type": "code",
        "colab": {
          "base_uri": "https://localhost:8080/",
          "height": 99,
          "referenced_widgets": [
            "e998ca9788954608a16abb14e7f21244",
            "5df4d301cf6b448e817316b422a2d741",
            "02fd84a4f8814d7d8b88e509aa0cf70b",
            "b4ba4c74189c456f848ef893a716c216",
            "5591cc9e8d5847d4aa05d8889664206b",
            "2e549ba9bf5e4f139928c73836cd9278",
            "2a879a41246648eb84de262144324773",
            "6edc88a3d4f749ab90bba95a33c1bc23"
          ]
        },
        "outputId": "6c37c088-f112-4a5b-e6ed-db665990656e"
      },
      "source": [
        "from torchvision import datasets\n",
        "import torchvision.transforms as transforms\n",
        "from torch.utils.data.sampler import SubsetRandomSampler\n",
        "\n",
        "# number of subprocesses to use for data loading\n",
        "num_workers = 0\n",
        "# how many samples per batch to load\n",
        "batch_size = 250\n",
        "# percentage of training set to use as validation\n",
        "valid_size = 0.2\n",
        "\n",
        "# convert data to a normalized torch.FloatTensor\n",
        "train_transform = transforms.Compose([transforms.RandomCrop(32,padding=4),\n",
        "                                transforms.RandomHorizontalFlip(),transforms.ToTensor(),\n",
        "                                transforms.Normalize([0.485,0.456,0.406],[0.229,0.224,.225])])\n",
        "\n",
        "test_transform = transforms.Compose([transforms.ToTensor(),\n",
        "                                transforms.Normalize([0.485,0.456,0.406],[0.229,0.224,.225])])\n",
        "# choose the training and test datasets\n",
        "train_data = datasets.CIFAR10('data', train=True,\n",
        "                              download=True, transform=train_transform)\n",
        "test_data = datasets.CIFAR10('data', train=False,\n",
        "                             download=True, transform=test_transform)\n",
        "\n",
        "# obtain training indices that will be used for validation\n",
        "num_train = len(train_data)\n",
        "indices = list(range(num_train))\n",
        "np.random.shuffle(indices)\n",
        "split = int(np.floor(valid_size * num_train))\n",
        "train_idx, valid_idx = indices[split:], indices[:split]\n",
        "\n",
        "# define samplers for obtaining training and validation batches\n",
        "train_sampler = SubsetRandomSampler(train_idx)\n",
        "valid_sampler = SubsetRandomSampler(valid_idx)\n",
        "\n",
        "# prepare data loaders (combine dataset and sampler)\n",
        "train_loader = torch.utils.data.DataLoader(train_data, batch_size=batch_size,\n",
        "    sampler=train_sampler, num_workers=num_workers)\n",
        "valid_loader = torch.utils.data.DataLoader(train_data, batch_size=batch_size, \n",
        "    sampler=valid_sampler, num_workers=num_workers)\n",
        "test_loader = torch.utils.data.DataLoader(test_data, batch_size=batch_size, \n",
        "    num_workers=num_workers)\n",
        "\n",
        "# specify the image classes\n",
        "classes = ['airplane', 'automobile', 'bird', 'cat', 'deer',\n",
        "           'dog', 'frog', 'horse', 'ship', 'truck']"
      ],
      "execution_count": null,
      "outputs": [
        {
          "output_type": "stream",
          "text": [
            "Downloading https://www.cs.toronto.edu/~kriz/cifar-10-python.tar.gz to data/cifar-10-python.tar.gz\n"
          ],
          "name": "stdout"
        },
        {
          "output_type": "display_data",
          "data": {
            "application/vnd.jupyter.widget-view+json": {
              "model_id": "e998ca9788954608a16abb14e7f21244",
              "version_minor": 0,
              "version_major": 2
            },
            "text/plain": [
              "HBox(children=(FloatProgress(value=1.0, bar_style='info', max=1.0), HTML(value='')))"
            ]
          },
          "metadata": {
            "tags": []
          }
        },
        {
          "output_type": "stream",
          "text": [
            "Extracting data/cifar-10-python.tar.gz to data\n",
            "Files already downloaded and verified\n"
          ],
          "name": "stdout"
        }
      ]
    },
    {
      "cell_type": "code",
      "metadata": {
        "id": "KjNrLr8Rm6g2",
        "colab_type": "code",
        "colab": {}
      },
      "source": [
        "import matplotlib.pyplot as plt\n",
        "%matplotlib inline\n",
        "\n",
        "# helper function to un-normalize and display an image\n",
        "def imshow(img):\n",
        "    img = img / 2 + 0.5  # unnormalize\n",
        "    plt.imshow(np.transpose(img, (1, 2, 0)))  # convert from Tensor image"
      ],
      "execution_count": null,
      "outputs": []
    },
    {
      "cell_type": "code",
      "metadata": {
        "id": "oM3DyLiHm7qY",
        "colab_type": "code",
        "colab": {
          "base_uri": "https://localhost:8080/",
          "height": 890
        },
        "outputId": "c2b73ea0-b1c5-41ff-f73c-999314bfec0f"
      },
      "source": [
        "# obtain one batch of training images\n",
        "dataiter = iter(train_loader)\n",
        "images, labels = dataiter.next()\n",
        "images = images.numpy() # convert images to numpy for display\n",
        "\n",
        "# plot the images in the batch, along with the corresponding labels\n",
        "fig = plt.figure(figsize=(25, 4))\n",
        "# display 20 images\n",
        "for idx in np.arange(20):\n",
        "    ax = fig.add_subplot(2, 20/2, idx+1, xticks=[], yticks=[])\n",
        "    imshow(images[idx])\n",
        "    print(images[idx].shape)\n",
        "    ax.set_title(classes[labels[idx]])"
      ],
      "execution_count": null,
      "outputs": [
        {
          "output_type": "stream",
          "text": [
            "Clipping input data to the valid range for imshow with RGB data ([0..1] for floats or [0..255] for integers).\n",
            "Clipping input data to the valid range for imshow with RGB data ([0..1] for floats or [0..255] for integers).\n",
            "Clipping input data to the valid range for imshow with RGB data ([0..1] for floats or [0..255] for integers).\n",
            "Clipping input data to the valid range for imshow with RGB data ([0..1] for floats or [0..255] for integers).\n",
            "Clipping input data to the valid range for imshow with RGB data ([0..1] for floats or [0..255] for integers).\n",
            "Clipping input data to the valid range for imshow with RGB data ([0..1] for floats or [0..255] for integers).\n",
            "Clipping input data to the valid range for imshow with RGB data ([0..1] for floats or [0..255] for integers).\n"
          ],
          "name": "stderr"
        },
        {
          "output_type": "stream",
          "text": [
            "(3, 32, 32)\n",
            "(3, 32, 32)\n",
            "(3, 32, 32)\n",
            "(3, 32, 32)\n",
            "(3, 32, 32)\n",
            "(3, 32, 32)\n",
            "(3, 32, 32)\n"
          ],
          "name": "stdout"
        },
        {
          "output_type": "stream",
          "text": [
            "Clipping input data to the valid range for imshow with RGB data ([0..1] for floats or [0..255] for integers).\n",
            "Clipping input data to the valid range for imshow with RGB data ([0..1] for floats or [0..255] for integers).\n",
            "Clipping input data to the valid range for imshow with RGB data ([0..1] for floats or [0..255] for integers).\n",
            "Clipping input data to the valid range for imshow with RGB data ([0..1] for floats or [0..255] for integers).\n",
            "Clipping input data to the valid range for imshow with RGB data ([0..1] for floats or [0..255] for integers).\n",
            "Clipping input data to the valid range for imshow with RGB data ([0..1] for floats or [0..255] for integers).\n",
            "Clipping input data to the valid range for imshow with RGB data ([0..1] for floats or [0..255] for integers).\n",
            "Clipping input data to the valid range for imshow with RGB data ([0..1] for floats or [0..255] for integers).\n",
            "Clipping input data to the valid range for imshow with RGB data ([0..1] for floats or [0..255] for integers).\n"
          ],
          "name": "stderr"
        },
        {
          "output_type": "stream",
          "text": [
            "(3, 32, 32)\n",
            "(3, 32, 32)\n",
            "(3, 32, 32)\n",
            "(3, 32, 32)\n",
            "(3, 32, 32)\n",
            "(3, 32, 32)\n",
            "(3, 32, 32)\n",
            "(3, 32, 32)\n",
            "(3, 32, 32)\n"
          ],
          "name": "stdout"
        },
        {
          "output_type": "stream",
          "text": [
            "Clipping input data to the valid range for imshow with RGB data ([0..1] for floats or [0..255] for integers).\n",
            "Clipping input data to the valid range for imshow with RGB data ([0..1] for floats or [0..255] for integers).\n",
            "Clipping input data to the valid range for imshow with RGB data ([0..1] for floats or [0..255] for integers).\n",
            "Clipping input data to the valid range for imshow with RGB data ([0..1] for floats or [0..255] for integers).\n"
          ],
          "name": "stderr"
        },
        {
          "output_type": "stream",
          "text": [
            "(3, 32, 32)\n",
            "(3, 32, 32)\n",
            "(3, 32, 32)\n",
            "(3, 32, 32)\n"
          ],
          "name": "stdout"
        },
        {
          "output_type": "display_data",
          "data": {
            "image/png": "[encoded data removed]",
            "text/plain": [
              "<Figure size 1800x288 with 20 Axes>"
            ]
          },
          "metadata": {
            "tags": []
          }
        }
      ]
    },
    {
      "cell_type": "code",
      "metadata": {
        "id": "jOP5wvkXnlmF",
        "colab_type": "code",
        "colab": {}
      },
      "source": [
        "import math\n",
        "import torch\n",
        "import torch.nn as nn\n",
        "from torch.optim import Optimizer"
      ],
      "execution_count": null,
      "outputs": []
    },
    {
      "cell_type": "code",
      "metadata": {
        "id": "q0rISRXbtYLL",
        "colab_type": "code",
        "colab": {}
      },
      "source": [
        "class BasicBlock(nn.Module):\n",
        "    def __init__(self,in_channels,out_channels,identity_downsample=None,stride=1):\n",
        "      super(BasicBlock,self).__init__()\n",
        "      self.conv1= nn.Conv2d(in_channels,out_channels,kernel_size=3,stride=stride,padding=1)\n",
        "      self.bn1= nn.BatchNorm2d(out_channels)\n",
        "      self.conv2= nn.Conv2d(out_channels,out_channels,kernel_size=3,stride=1,padding=1)\n",
        "      self.bn2= nn.BatchNorm2d(out_channels)\n",
        "      self.relu= nn.ReLU()\n",
        "      self.identity_downsample= identity_downsample\n",
        "    \n",
        "    def forward(self,x):\n",
        "      identity=x\n",
        "      x = self.conv1(x)\n",
        "      x = self.bn1(x)\n",
        "      x = self.relu(x)\n",
        "      x = self.conv2(x)\n",
        "      x = self.bn2(x)\n",
        "      x = self.relu(x)\n",
        "      if self.identity_downsample is not None:\n",
        "        identity = self.identity_downsample(identity)\n",
        "      \n",
        "      x += identity\n",
        "      x = self.relu(x)\n",
        "      return x"
      ],
      "execution_count": null,
      "outputs": []
    },
    {
      "cell_type": "code",
      "metadata": {
        "id": "A3e7i4SOtfVc",
        "colab_type": "code",
        "colab": {}
      },
      "source": [
        "class ResNet(nn.Module):\n",
        "    def __init__(self,block,layers,image_channels,num_classes):\n",
        "      super(ResNet,self).__init__()\n",
        "      self.in_channels = 16\n",
        "      self.conv1 = nn.Conv2d(image_channels,16,kernel_size= 3,stride=1,padding=1)\n",
        "      self.bn1 = nn.BatchNorm2d(16)\n",
        "      self.relu = nn.ReLU()\n",
        "      self.layer1 = self._make_layer(block,5,out_channels=16,stride=1)\n",
        "      self.layer2 = self._make_layer(block,5,out_channels=32,stride=2)\n",
        "      self.layer3 = self._make_layer(block,5,out_channels=64,stride=2)\n",
        "      self.avgpool = nn.AdaptiveAvgPool2d(1)\n",
        "      self.fc = nn.Linear(64,num_classes)\n",
        "      self.softmax = nn.Softmax(dim=1)\n",
        "  \n",
        "    def forward(self,x):\n",
        "      x = self.conv1(x)\n",
        "      x = self.bn1(x)\n",
        "      x = self.relu(x)\n",
        "      x = self.layer1(x)\n",
        "      x = self.layer2(x)\n",
        "      x = self.layer3(x)\n",
        "      x = self.avgpool(x)\n",
        "      x = x.reshape(x.shape[0],-1)\n",
        "      x = self.fc(x)\n",
        "      x = self.softmax(x)\n",
        "      return x\n",
        "\n",
        "      # ResNet layers\n",
        "    \n",
        "    def _make_layer(self,block,num_residual_blocks,out_channels,stride):\n",
        "      identity_downsample= None\n",
        "      layers = []\n",
        "      if stride!=1 or self.in_channels!= out_channels:\n",
        "        identity_downsample = nn.Sequential(nn.Conv2d(self.in_channels,out_channels,kernel_size=1,stride=stride),\n",
        "                                            nn.BatchNorm2d(out_channels))\n",
        "      layers.append(block(self.in_channels,out_channels,identity_downsample,stride))\n",
        "      self.in_channels = out_channels\n",
        "      \n",
        "      for i in range(num_residual_blocks - 1):\n",
        "          layers.append(block(self.in_channels,out_channels))\n",
        "      \n",
        "      return nn.Sequential(*layers)\n",
        "\n"
      ],
      "execution_count": null,
      "outputs": []
    },
    {
      "cell_type": "code",
      "metadata": {
        "id": "o2s7evPztqgr",
        "colab_type": "code",
        "colab": {}
      },
      "source": [
        "def ResNet32(img_channels=3,num_classes = 10):\n",
        "    return ResNet(BasicBlock, [5,5,5,5], img_channels,num_classes)"
      ],
      "execution_count": null,
      "outputs": []
    },
    {
      "cell_type": "code",
      "metadata": {
        "id": "3TJMupr9twPI",
        "colab_type": "code",
        "colab": {
          "base_uri": "https://localhost:8080/",
          "height": 1000
        },
        "outputId": "d8f9ea0a-ddd2-4e5b-cabb-bbcfe6149491"
      },
      "source": [
        "from torchsummary import summary\n",
        "\n",
        "model = ResNet32(3, 10)\n",
        "summary(model.cuda(), (3, 32, 32))"
      ],
      "execution_count": null,
      "outputs": [
        {
          "output_type": "stream",
          "text": [
            "----------------------------------------------------------------\n",
            "        Layer (type)               Output Shape         Param #\n",
            "================================================================\n",
            "            Conv2d-1           [-1, 16, 32, 32]             448\n",
            "       BatchNorm2d-2           [-1, 16, 32, 32]              32\n",
            "              ReLU-3           [-1, 16, 32, 32]               0\n",
            "            Conv2d-4           [-1, 16, 32, 32]           2,320\n",
            "       BatchNorm2d-5           [-1, 16, 32, 32]              32\n",
            "              ReLU-6           [-1, 16, 32, 32]               0\n",
            "            Conv2d-7           [-1, 16, 32, 32]           2,320\n",
            "       BatchNorm2d-8           [-1, 16, 32, 32]              32\n",
            "              ReLU-9           [-1, 16, 32, 32]               0\n",
            "             ReLU-10           [-1, 16, 32, 32]               0\n",
            "       BasicBlock-11           [-1, 16, 32, 32]               0\n",
            "           Conv2d-12           [-1, 16, 32, 32]           2,320\n",
            "      BatchNorm2d-13           [-1, 16, 32, 32]              32\n",
            "             ReLU-14           [-1, 16, 32, 32]               0\n",
            "           Conv2d-15           [-1, 16, 32, 32]           2,320\n",
            "      BatchNorm2d-16           [-1, 16, 32, 32]              32\n",
            "             ReLU-17           [-1, 16, 32, 32]               0\n",
            "             ReLU-18           [-1, 16, 32, 32]               0\n",
            "       BasicBlock-19           [-1, 16, 32, 32]               0\n",
            "           Conv2d-20           [-1, 16, 32, 32]           2,320\n",
            "      BatchNorm2d-21           [-1, 16, 32, 32]              32\n",
            "             ReLU-22           [-1, 16, 32, 32]               0\n",
            "           Conv2d-23           [-1, 16, 32, 32]           2,320\n",
            "      BatchNorm2d-24           [-1, 16, 32, 32]              32\n",
            "             ReLU-25           [-1, 16, 32, 32]               0\n",
            "             ReLU-26           [-1, 16, 32, 32]               0\n",
            "       BasicBlock-27           [-1, 16, 32, 32]               0\n",
            "           Conv2d-28           [-1, 16, 32, 32]           2,320\n",
            "      BatchNorm2d-29           [-1, 16, 32, 32]              32\n",
            "             ReLU-30           [-1, 16, 32, 32]               0\n",
            "           Conv2d-31           [-1, 16, 32, 32]           2,320\n",
            "      BatchNorm2d-32           [-1, 16, 32, 32]              32\n",
            "             ReLU-33           [-1, 16, 32, 32]               0\n",
            "             ReLU-34           [-1, 16, 32, 32]               0\n",
            "       BasicBlock-35           [-1, 16, 32, 32]               0\n",
            "           Conv2d-36           [-1, 16, 32, 32]           2,320\n",
            "      BatchNorm2d-37           [-1, 16, 32, 32]              32\n",
            "             ReLU-38           [-1, 16, 32, 32]               0\n",
            "           Conv2d-39           [-1, 16, 32, 32]           2,320\n",
            "      BatchNorm2d-40           [-1, 16, 32, 32]              32\n",
            "             ReLU-41           [-1, 16, 32, 32]               0\n",
            "             ReLU-42           [-1, 16, 32, 32]               0\n",
            "       BasicBlock-43           [-1, 16, 32, 32]               0\n",
            "           Conv2d-44           [-1, 32, 16, 16]           4,640\n",
            "      BatchNorm2d-45           [-1, 32, 16, 16]              64\n",
            "             ReLU-46           [-1, 32, 16, 16]               0\n",
            "           Conv2d-47           [-1, 32, 16, 16]           9,248\n",
            "      BatchNorm2d-48           [-1, 32, 16, 16]              64\n",
            "             ReLU-49           [-1, 32, 16, 16]               0\n",
            "           Conv2d-50           [-1, 32, 16, 16]             544\n",
            "      BatchNorm2d-51           [-1, 32, 16, 16]              64\n",
            "             ReLU-52           [-1, 32, 16, 16]               0\n",
            "       BasicBlock-53           [-1, 32, 16, 16]               0\n",
            "           Conv2d-54           [-1, 32, 16, 16]           9,248\n",
            "      BatchNorm2d-55           [-1, 32, 16, 16]              64\n",
            "             ReLU-56           [-1, 32, 16, 16]               0\n",
            "           Conv2d-57           [-1, 32, 16, 16]           9,248\n",
            "      BatchNorm2d-58           [-1, 32, 16, 16]              64\n",
            "             ReLU-59           [-1, 32, 16, 16]               0\n",
            "             ReLU-60           [-1, 32, 16, 16]               0\n",
            "       BasicBlock-61           [-1, 32, 16, 16]               0\n",
            "           Conv2d-62           [-1, 32, 16, 16]           9,248\n",
            "      BatchNorm2d-63           [-1, 32, 16, 16]              64\n",
            "             ReLU-64           [-1, 32, 16, 16]               0\n",
            "           Conv2d-65           [-1, 32, 16, 16]           9,248\n",
            "      BatchNorm2d-66           [-1, 32, 16, 16]              64\n",
            "             ReLU-67           [-1, 32, 16, 16]               0\n",
            "             ReLU-68           [-1, 32, 16, 16]               0\n",
            "       BasicBlock-69           [-1, 32, 16, 16]               0\n",
            "           Conv2d-70           [-1, 32, 16, 16]           9,248\n",
            "      BatchNorm2d-71           [-1, 32, 16, 16]              64\n",
            "             ReLU-72           [-1, 32, 16, 16]               0\n",
            "           Conv2d-73           [-1, 32, 16, 16]           9,248\n",
            "      BatchNorm2d-74           [-1, 32, 16, 16]              64\n",
            "             ReLU-75           [-1, 32, 16, 16]               0\n",
            "             ReLU-76           [-1, 32, 16, 16]               0\n",
            "       BasicBlock-77           [-1, 32, 16, 16]               0\n",
            "           Conv2d-78           [-1, 32, 16, 16]           9,248\n",
            "      BatchNorm2d-79           [-1, 32, 16, 16]              64\n",
            "             ReLU-80           [-1, 32, 16, 16]               0\n",
            "           Conv2d-81           [-1, 32, 16, 16]           9,248\n",
            "      BatchNorm2d-82           [-1, 32, 16, 16]              64\n",
            "             ReLU-83           [-1, 32, 16, 16]               0\n",
            "             ReLU-84           [-1, 32, 16, 16]               0\n",
            "       BasicBlock-85           [-1, 32, 16, 16]               0\n",
            "           Conv2d-86             [-1, 64, 8, 8]          18,496\n",
            "      BatchNorm2d-87             [-1, 64, 8, 8]             128\n",
            "             ReLU-88             [-1, 64, 8, 8]               0\n",
            "           Conv2d-89             [-1, 64, 8, 8]          36,928\n",
            "      BatchNorm2d-90             [-1, 64, 8, 8]             128\n",
            "             ReLU-91             [-1, 64, 8, 8]               0\n",
            "           Conv2d-92             [-1, 64, 8, 8]           2,112\n",
            "      BatchNorm2d-93             [-1, 64, 8, 8]             128\n",
            "             ReLU-94             [-1, 64, 8, 8]               0\n",
            "       BasicBlock-95             [-1, 64, 8, 8]               0\n",
            "           Conv2d-96             [-1, 64, 8, 8]          36,928\n",
            "      BatchNorm2d-97             [-1, 64, 8, 8]             128\n",
            "             ReLU-98             [-1, 64, 8, 8]               0\n",
            "           Conv2d-99             [-1, 64, 8, 8]          36,928\n",
            "     BatchNorm2d-100             [-1, 64, 8, 8]             128\n",
            "            ReLU-101             [-1, 64, 8, 8]               0\n",
            "            ReLU-102             [-1, 64, 8, 8]               0\n",
            "      BasicBlock-103             [-1, 64, 8, 8]               0\n",
            "          Conv2d-104             [-1, 64, 8, 8]          36,928\n",
            "     BatchNorm2d-105             [-1, 64, 8, 8]             128\n",
            "            ReLU-106             [-1, 64, 8, 8]               0\n",
            "          Conv2d-107             [-1, 64, 8, 8]          36,928\n",
            "     BatchNorm2d-108             [-1, 64, 8, 8]             128\n",
            "            ReLU-109             [-1, 64, 8, 8]               0\n",
            "            ReLU-110             [-1, 64, 8, 8]               0\n",
            "      BasicBlock-111             [-1, 64, 8, 8]               0\n",
            "          Conv2d-112             [-1, 64, 8, 8]          36,928\n",
            "     BatchNorm2d-113             [-1, 64, 8, 8]             128\n",
            "            ReLU-114             [-1, 64, 8, 8]               0\n",
            "          Conv2d-115             [-1, 64, 8, 8]          36,928\n",
            "     BatchNorm2d-116             [-1, 64, 8, 8]             128\n",
            "            ReLU-117             [-1, 64, 8, 8]               0\n",
            "            ReLU-118             [-1, 64, 8, 8]               0\n",
            "      BasicBlock-119             [-1, 64, 8, 8]               0\n",
            "          Conv2d-120             [-1, 64, 8, 8]          36,928\n",
            "     BatchNorm2d-121             [-1, 64, 8, 8]             128\n",
            "            ReLU-122             [-1, 64, 8, 8]               0\n",
            "          Conv2d-123             [-1, 64, 8, 8]          36,928\n",
            "     BatchNorm2d-124             [-1, 64, 8, 8]             128\n",
            "            ReLU-125             [-1, 64, 8, 8]               0\n",
            "            ReLU-126             [-1, 64, 8, 8]               0\n",
            "      BasicBlock-127             [-1, 64, 8, 8]               0\n",
            "AdaptiveAvgPool2d-128             [-1, 64, 1, 1]               0\n",
            "          Linear-129                   [-1, 10]             650\n",
            "         Softmax-130                   [-1, 10]               0\n",
            "================================================================\n",
            "Total params: 468,138\n",
            "Trainable params: 468,138\n",
            "Non-trainable params: 0\n",
            "----------------------------------------------------------------\n",
            "Input size (MB): 0.01\n",
            "Forward/backward pass size (MB): 9.31\n",
            "Params size (MB): 1.79\n",
            "Estimated Total Size (MB): 11.11\n",
            "----------------------------------------------------------------\n"
          ],
          "name": "stdout"
        }
      ]
    },
    {
      "cell_type": "code",
      "metadata": {
        "id": "g9jtbgSO6uOZ",
        "colab_type": "code",
        "colab": {}
      },
      "source": [
        "import math\n",
        "import torch\n",
        "from torch.optim import Optimizer"
      ],
      "execution_count": null,
      "outputs": []
    },
    {
      "cell_type": "code",
      "metadata": {
        "id": "QbWLyVWG7S1A",
        "colab_type": "code",
        "colab": {}
      },
      "source": [
        "class STORM(Optimizer):\n",
        "    r\"\"\"Implements STORM algorithm.\n",
        "\n",
        "    It has been proposed in `STORM: A Method for Stochastic Optimization`_.\n",
        "\n",
        "    Arguments:\n",
        "        params (iterable): iterable of parameters to optimize or dicts defining\n",
        "            parameter groups\n",
        "        k (float, optional): learning rate (default: 1e-3)\n",
        "        betas (Tuple[float, float], optional): coefficients used for computing\n",
        "            running averages of gradient and its square (default: (0.9, 0.999))\n",
        "        eps (float, optional): term added to the denominator to improve\n",
        "            numerical stability (default: 1e-8)\n",
        "        weight_decay (float, optional): weight decay (L2 penalty) (default: 0)\n",
        "        amsgrad (boolean, optional): whether to use the AMSGrad variant of this\n",
        "            algorithm from the paper `On the Convergence of Adam and Beyond`_\n",
        "            (default: False)\n",
        "\n",
        "    .. _Adam\\: A Method for Stochastic Optimization:\n",
        "        https://arxiv.org/abs/1412.6980\n",
        "    \"\"\"\n",
        "\n",
        "    def __init__(self, params, k=0.1, w=0.1, c=1, weight_decay=0):\n",
        "        if not 0.0 <= weight_decay:\n",
        "            raise ValueError(\"Invalid weight_decay value: {}\".format(weight_decay))\n",
        "        defaults = dict(k=k, w=w, c=c, weight_decay=weight_decay)\n",
        "        super(STORM, self).__init__(params, defaults)\n",
        "\n",
        "    def __setstate__(self, state):\n",
        "        super(STORM, self).__setstate__(state)\n",
        "        \n",
        "    @torch.no_grad()\n",
        "    def step(self, closure=None):\n",
        "        \"\"\"Performs a single optimization step.\n",
        "\n",
        "        Arguments:\n",
        "            closure (callable, optional): A closure that reevaluates the model\n",
        "                and returns the loss.\n",
        "        \"\"\"\n",
        "        loss = None\n",
        "        if closure is not None:\n",
        "            with torch.enable_grad():\n",
        "                loss = closure()\n",
        "\n",
        "        for group in self.param_groups:\n",
        "            for p in group['params']:\n",
        "                if p.grad is None:\n",
        "                    continue\n",
        "                grad = p.grad\n",
        "                if grad.is_sparse:\n",
        "                    raise RuntimeError('STORM does not support sparse gradients, please consider SparseAdam instead')\n",
        "\n",
        "                state = self.state[p]\n",
        "\n",
        "                # State initialization\n",
        "                if len(state) == 0:\n",
        "                    state['step'] = 0\n",
        "                    state['lr'] = group['k']/group['w']**(1/3)\n",
        "                    state['G^2'] = 0\n",
        "                    state['d'] = 0\n",
        "                    state['prev_grad'] = 0\n",
        "                    state['a'] = 0\n",
        "\n",
        "                grad_sqr_sum, d, learning_rate,prev_grad,a = state['G^2'], state['d'], state['lr'], state['prev_grad'],state['a']\n",
        "                k, w, c = group['k'], group['w'], group['c']\n",
        "\n",
        "                state['step'] += 1\n",
        "                #weight decay\n",
        "                if group['weight_decay'] != 0:\n",
        "                    grad = grad.add(p, alpha=group['weight_decay'])\n",
        "                \n",
        "                #change in state for this step\n",
        "                grad_sqr_sum += (torch.norm(grad).item())**2\n",
        "                learning_rate = k/(w + grad_sqr_sum)**(1/3)\n",
        "                d = grad + (1-a)*(d-prev_grad)\n",
        "\n",
        "                #data update step\n",
        "                p.data = p.data - learning_rate*d\n",
        "                \n",
        "                #change in state for next step\n",
        "                a = c*(learning_rate**2)\n",
        "                prev_grad = grad\n",
        "\n",
        "        return loss"
      ],
      "execution_count": null,
      "outputs": []
    },
    {
      "cell_type": "code",
      "metadata": {
        "id": "ZO5dyBIvq4i3",
        "colab_type": "code",
        "colab": {}
      },
      "source": [
        "# Creating different model for each optimizer for managing independency between them\n",
        "modeladam = ResNet32()\n",
        "modeladagrad = ResNet32()\n",
        "modelstorm = ResNet32()\n",
        "\n",
        "# Move Tensors to GPU if CUDA is available\n",
        "if train_on_gpu:\n",
        "    modeladam.cuda()\n",
        "    modeladagrad.cuda()\n",
        "    modelstorm.cuda()\n"
      ],
      "execution_count": null,
      "outputs": []
    },
    {
      "cell_type": "code",
      "metadata": {
        "id": "mHZ0Qqr3uPRm",
        "colab_type": "code",
        "colab": {}
      },
      "source": [
        "import torch.optim as optim\n",
        "\n",
        "# specify loss function (categorical cross-entropy)\n",
        "criterion = nn.CrossEntropyLoss()\n",
        "\n",
        "# specify optimizers\n",
        "adam = optim.Adam(modeladam.parameters(), lr=0.001,weight_decay=0.00008)\n",
        "adagrad = optim.Adagrad(modeladagrad.parameters(), lr= 0.03, lr_decay= 0, weight_decay= 0.0003)\n",
        "storm = STORM(modelstorm.parameters(), k= 0.1, w=0.1 , c = 1 )"
      ],
      "execution_count": null,
      "outputs": []
    },
    {
      "cell_type": "code",
      "metadata": {
        "id": "1mEN9h2lAgeN",
        "colab_type": "code",
        "colab": {}
      },
      "source": [
        "def train_model(model,optimizer,n_epochs=40):\n",
        "    \n",
        "    train_time = 0\n",
        "    train_losses=[]\n",
        "    test_losses=[]\n",
        "    train_accuracies=[]\n",
        "    test_accuracies=[]\n",
        "    valid_loss_min = np.Inf # track change in validation loss\n",
        "    \n",
        "    for epoch in range(1, n_epochs+1):\n",
        "        # keep track of training, validation and test loss\n",
        "        train_loss = 0.0\n",
        "        test_loss = 0.0\n",
        "        valid_loss = 0.0\n",
        "        # keep track of training and test accuracy \n",
        "        train_accuracy = 0.0\n",
        "        test_accuracy = 0.0\n",
        "        ###################\n",
        "        # train the model #\n",
        "        ###################\n",
        "        start = time.time()\n",
        "        model.train()\n",
        "        for batch_idx, (data, target) in enumerate(train_loader):\n",
        "            # move tensors to GPU if CUDA is available\n",
        "            if train_on_gpu:\n",
        "                data, target = data.cuda(), target.cuda()\n",
        "            # clear the gradients of all optimized variables\n",
        "            optimizer.zero_grad()\n",
        "            # forward pass: compute predicted outputs by passing inputs to the model\n",
        "            output = model(data)\n",
        "            # calculate the batch loss\n",
        "            loss = criterion(output, target)\n",
        "            # backward pass: compute gradient of the loss with respect to model parameters\n",
        "            loss.backward()\n",
        "            # perform a single optimization step (parameter update)\n",
        "            optimizer.step()\n",
        "            # update training loss\n",
        "            train_loss += loss.item()*data.size(0)\n",
        "            # convert output probabilities to predicted class\n",
        "            _, pred = torch.max(output, 1)    \n",
        "            # compare predictions to true label\n",
        "            correct_tensor = pred.eq(target.data.view_as(pred))\n",
        "            # Calculate accuracy\n",
        "            train_accuracy += torch.mean(correct_tensor.type(torch.float32)).item()\n",
        "        end = time.time()\n",
        "        train_time += (end-start)\n",
        "        ######################    \n",
        "        # validate the model #\n",
        "        ######################\n",
        "        model.eval()\n",
        "        for batch_idx, (data, target) in enumerate(valid_loader):\n",
        "            # move tensors to GPU if CUDA is available\n",
        "            if train_on_gpu:\n",
        "                data, target = data.cuda(), target.cuda()\n",
        "            # forward pass: compute predicted outputs by passing inputs to the model\n",
        "            output = model(data)\n",
        "            # calculate the batch loss\n",
        "            loss = criterion(output, target)\n",
        "            # update average validation loss \n",
        "            valid_loss += loss.item()*data.size(0)\n",
        "\n",
        "        #######################\n",
        "        #  Test the model  #\n",
        "        #######################    \n",
        "        for data, target in test_loader:\n",
        "            # move tensors to GPU if CUDA is available\n",
        "            if(data.shape[0]!=250):break\n",
        "            if train_on_gpu:\n",
        "                data, target = data.cuda(), target.cuda()\n",
        "            # forward pass: compute predicted outputs by passing inputs to the model\n",
        "            output = model(data)\n",
        "            # calculate the batch loss\n",
        "            loss = criterion(output, target)\n",
        "            # update test loss \n",
        "            test_loss += loss.item()*data.size(0)\n",
        "            # convert output probabilities to predicted class\n",
        "            _, pred = torch.max(output, 1)    \n",
        "            # compare predictions to true label\n",
        "            correct_tensor = pred.eq(target.data.view_as(pred))\n",
        "            # Calculate accuracy\n",
        "            test_accuracy += torch.mean(correct_tensor.type(torch.float32)).item();\n",
        "\n",
        "\n",
        "        # calculate average losses\n",
        "        train_loss = train_loss/len(train_loader.sampler)\n",
        "        valid_loss = valid_loss/len(valid_loader.sampler)\n",
        "        test_loss = test_loss/len(test_loader.dataset)\n",
        "        train_losses.append(train_loss)\n",
        "        test_losses.append(test_loss)\n",
        "\n",
        "        # calculate average accuracies\n",
        "        train_accuracies.append(train_accuracy/len(train_loader))\n",
        "        test_accuracies.append(test_accuracy/len(test_loader))\n",
        "        \n",
        "        # print training/validation statistics \n",
        "        if(epoch%5 == 1):\n",
        "            print('Epoch: {} \\tTraining Loss: {:.6f} \\tValidation Loss: {:.6f}'.format(\n",
        "            epoch, train_loss, valid_loss))\n",
        "    \n",
        "        # save model if validation loss has decreased\n",
        "        if valid_loss <= valid_loss_min:\n",
        "            torch.save(model.state_dict(), 'model_augmented.pt')\n",
        "            valid_loss_min = valid_loss\n",
        "\n",
        "    return train_losses,test_losses,train_accuracies,test_accuracies,train_time\n"
      ],
      "execution_count": null,
      "outputs": []
    },
    {
      "cell_type": "code",
      "metadata": {
        "id": "51xPOt2iSl6-",
        "colab_type": "code",
        "colab": {}
      },
      "source": [
        "def test_model(model):\n",
        "  \n",
        "    # track test loss\n",
        "    test_loss = 0.0\n",
        "    class_correct = list(0. for i in range(10))\n",
        "    class_total = list(0. for i in range(10))\n",
        "\n",
        "    model.eval()\n",
        "    # iterate over test data\n",
        "    for data, target in test_loader:\n",
        "        # move tensors to GPU if CUDA is available\n",
        "        if(data.shape[0]!=250):break\n",
        "        if train_on_gpu:\n",
        "            data, target = data.cuda(), target.cuda()\n",
        "        # forward pass: compute predicted outputs by passing inputs to the model\n",
        "        output = model(data)\n",
        "        # calculate the batch loss\n",
        "        loss = criterion(output, target)\n",
        "        # update test loss \n",
        "        test_loss += loss.item()*data.size(0)\n",
        "        # convert output probabilities to predicted class\n",
        "        _, pred = torch.max(output, 1)    \n",
        "        # compare predictions to true label\n",
        "        correct_tensor = pred.eq(target.data.view_as(pred))\n",
        "        correct = np.squeeze(correct_tensor.numpy()) if not train_on_gpu else np.squeeze(correct_tensor.cpu().numpy())\n",
        "        # calculate test accuracy for each object class\n",
        "        for i in range(batch_size):\n",
        "            label = target.data[i]\n",
        "            class_correct[label] += correct[i].item()\n",
        "            class_total[label] += 1\n",
        "\n",
        "    # average test loss\n",
        "    test_loss = test_loss/len(test_loader.dataset)\n",
        "    print('Test Loss: {:.6f}\\n'.format(test_loss))\n",
        "\n",
        "    for i in range(10):\n",
        "        if class_total[i] > 0:\n",
        "            print('Test Accuracy of %5s: %2d%% (%2d/%2d)' % (\n",
        "                classes[i], 100 * class_correct[i] / class_total[i],\n",
        "                np.sum(class_correct[i]), np.sum(class_total[i])))\n",
        "        else:\n",
        "            print('Test Accuracy of %5s: N/A (no training examples)' % (classes[i]))\n",
        "\n",
        "    print('\\nTest Accuracy (Overall): %2d%% (%2d/%2d)' % (\n",
        "        100. * np.sum(class_correct) / np.sum(class_total),\n",
        "        np.sum(class_correct), np.sum(class_total)))"
      ],
      "execution_count": null,
      "outputs": []
    },
    {
      "cell_type": "code",
      "metadata": {
        "id": "_tCYWLBbUuGo",
        "colab_type": "code",
        "colab": {
          "base_uri": "https://localhost:8080/",
          "height": 907
        },
        "outputId": "bee9b259-90e3-4079-bde7-55e7f835dc89"
      },
      "source": [
        "print(\"Adam Optimizer:\\n\")\n",
        "print(\"Training the model\\n\")\n",
        "train_losses1,test_losses1,train_accuracies1,test_accuracies1,train_time1=train_model(modeladam,adam,160)\n",
        "modeladam.load_state_dict(torch.load('model_augmented.pt'))\n",
        "print(\"\\nTesting the model\\n\")\n",
        "test_model(modeladam)\n"
      ],
      "execution_count": null,
      "outputs": [
        {
          "output_type": "stream",
          "text": [
            "Adam Optimizer:\n",
            "\n",
            "Training the model\n",
            "\n",
            "Epoch: 1 \tTraining Loss: 2.137058 \tValidation Loss: 2.137224\n",
            "Epoch: 6 \tTraining Loss: 1.814791 \tValidation Loss: 1.826426\n",
            "Epoch: 11 \tTraining Loss: 1.738638 \tValidation Loss: 1.762104\n",
            "Epoch: 16 \tTraining Loss: 1.694191 \tValidation Loss: 1.777598\n",
            "Epoch: 21 \tTraining Loss: 1.667076 \tValidation Loss: 1.705214\n",
            "Epoch: 26 \tTraining Loss: 1.650658 \tValidation Loss: 1.710005\n",
            "Epoch: 31 \tTraining Loss: 1.635089 \tValidation Loss: 1.715390\n",
            "Epoch: 36 \tTraining Loss: 1.626001 \tValidation Loss: 1.661755\n",
            "Epoch: 41 \tTraining Loss: 1.623117 \tValidation Loss: 1.663188\n",
            "Epoch: 46 \tTraining Loss: 1.607535 \tValidation Loss: 1.650847\n",
            "Epoch: 51 \tTraining Loss: 1.602812 \tValidation Loss: 1.652818\n",
            "Epoch: 56 \tTraining Loss: 1.596732 \tValidation Loss: 1.644108\n",
            "Epoch: 61 \tTraining Loss: 1.594204 \tValidation Loss: 1.637510\n",
            "Epoch: 66 \tTraining Loss: 1.585737 \tValidation Loss: 1.625085\n",
            "Epoch: 71 \tTraining Loss: 1.582483 \tValidation Loss: 1.627980\n",
            "Epoch: 76 \tTraining Loss: 1.582593 \tValidation Loss: 1.658382\n",
            "Epoch: 81 \tTraining Loss: 1.576099 \tValidation Loss: 1.649467\n",
            "Epoch: 86 \tTraining Loss: 1.574609 \tValidation Loss: 1.627515\n",
            "Epoch: 91 \tTraining Loss: 1.574922 \tValidation Loss: 1.633430\n",
            "Epoch: 96 \tTraining Loss: 1.570095 \tValidation Loss: 1.620872\n",
            "Epoch: 101 \tTraining Loss: 1.567227 \tValidation Loss: 1.616619\n",
            "Epoch: 106 \tTraining Loss: 1.564277 \tValidation Loss: 1.613355\n",
            "Epoch: 111 \tTraining Loss: 1.563742 \tValidation Loss: 1.625960\n",
            "Epoch: 116 \tTraining Loss: 1.564795 \tValidation Loss: 1.613192\n",
            "Epoch: 121 \tTraining Loss: 1.556926 \tValidation Loss: 1.606645\n",
            "Epoch: 126 \tTraining Loss: 1.558123 \tValidation Loss: 1.664723\n",
            "Epoch: 131 \tTraining Loss: 1.558104 \tValidation Loss: 1.635209\n",
            "Epoch: 136 \tTraining Loss: 1.554668 \tValidation Loss: 1.613013\n",
            "Epoch: 141 \tTraining Loss: 1.554228 \tValidation Loss: 1.607738\n",
            "Epoch: 146 \tTraining Loss: 1.553746 \tValidation Loss: 1.619618\n",
            "Epoch: 151 \tTraining Loss: 1.552120 \tValidation Loss: 1.613696\n",
            "Epoch: 156 \tTraining Loss: 1.555249 \tValidation Loss: 1.608719\n",
            "\n",
            "Testing the model\n",
            "\n",
            "Test Loss: 1.597912\n",
            "\n",
            "Test Accuracy of airplane: 88% (886/1000)\n",
            "Test Accuracy of automobile: 96% (961/1000)\n",
            "Test Accuracy of  bird: 77% (777/1000)\n",
            "Test Accuracy of   cat: 80% (808/1000)\n",
            "Test Accuracy of  deer: 90% (907/1000)\n",
            "Test Accuracy of   dog: 77% (779/1000)\n",
            "Test Accuracy of  frog: 89% (898/1000)\n",
            "Test Accuracy of horse: 81% (819/1000)\n",
            "Test Accuracy of  ship: 89% (894/1000)\n",
            "Test Accuracy of truck: 89% (894/1000)\n",
            "\n",
            "Test Accuracy (Overall): 86% (8623/10000)\n"
          ],
          "name": "stdout"
        }
      ]
    },
    {
      "cell_type": "code",
      "metadata": {
        "id": "FyI3W-taZr0L",
        "colab_type": "code",
        "colab": {
          "base_uri": "https://localhost:8080/",
          "height": 907
        },
        "outputId": "69a7781e-aad7-443b-e4d5-54f04bfae1ea"
      },
      "source": [
        "print(\"Adagrad Optimizer:\\n\")\n",
        "print(\"Training the model\\n\")\n",
        "train_losses2,test_losses2,train_accuracies2,test_accuracies2,train_time2=train_model(modeladagrad,adagrad,160)\n",
        "modeladagrad.load_state_dict(torch.load('model_augmented.pt'))\n",
        "print(\"\\nTesting the model\\n\")\n",
        "test_model(modeladagrad)"
      ],
      "execution_count": null,
      "outputs": [
        {
          "output_type": "stream",
          "text": [
            "Adagrad Optimizer:\n",
            "\n",
            "Training the model\n",
            "\n",
            "Epoch: 1 \tTraining Loss: 2.210379 \tValidation Loss: 2.203227\n",
            "Epoch: 6 \tTraining Loss: 1.935819 \tValidation Loss: 1.927783\n",
            "Epoch: 11 \tTraining Loss: 1.821978 \tValidation Loss: 1.877602\n",
            "Epoch: 16 \tTraining Loss: 1.731863 \tValidation Loss: 1.772184\n",
            "Epoch: 21 \tTraining Loss: 1.685458 \tValidation Loss: 1.722325\n",
            "Epoch: 26 \tTraining Loss: 1.656633 \tValidation Loss: 1.713041\n",
            "Epoch: 31 \tTraining Loss: 1.639283 \tValidation Loss: 1.695493\n",
            "Epoch: 36 \tTraining Loss: 1.625017 \tValidation Loss: 1.656553\n",
            "Epoch: 41 \tTraining Loss: 1.613485 \tValidation Loss: 1.677177\n",
            "Epoch: 46 \tTraining Loss: 1.604193 \tValidation Loss: 1.647806\n",
            "Epoch: 51 \tTraining Loss: 1.596118 \tValidation Loss: 1.683254\n",
            "Epoch: 56 \tTraining Loss: 1.591404 \tValidation Loss: 1.641896\n",
            "Epoch: 61 \tTraining Loss: 1.582639 \tValidation Loss: 1.643800\n",
            "Epoch: 66 \tTraining Loss: 1.579008 \tValidation Loss: 1.634067\n",
            "Epoch: 71 \tTraining Loss: 1.575883 \tValidation Loss: 1.623741\n",
            "Epoch: 76 \tTraining Loss: 1.569697 \tValidation Loss: 1.617931\n",
            "Epoch: 81 \tTraining Loss: 1.568225 \tValidation Loss: 1.608955\n",
            "Epoch: 86 \tTraining Loss: 1.563188 \tValidation Loss: 1.618313\n",
            "Epoch: 91 \tTraining Loss: 1.558517 \tValidation Loss: 1.619998\n",
            "Epoch: 96 \tTraining Loss: 1.557371 \tValidation Loss: 1.609546\n",
            "Epoch: 101 \tTraining Loss: 1.554156 \tValidation Loss: 1.619051\n",
            "Epoch: 106 \tTraining Loss: 1.551146 \tValidation Loss: 1.619823\n",
            "Epoch: 111 \tTraining Loss: 1.551025 \tValidation Loss: 1.607029\n",
            "Epoch: 116 \tTraining Loss: 1.547014 \tValidation Loss: 1.613978\n",
            "Epoch: 121 \tTraining Loss: 1.546309 \tValidation Loss: 1.630038\n",
            "Epoch: 126 \tTraining Loss: 1.544271 \tValidation Loss: 1.616924\n",
            "Epoch: 131 \tTraining Loss: 1.540778 \tValidation Loss: 1.613134\n",
            "Epoch: 136 \tTraining Loss: 1.539865 \tValidation Loss: 1.598191\n",
            "Epoch: 141 \tTraining Loss: 1.537446 \tValidation Loss: 1.607648\n",
            "Epoch: 146 \tTraining Loss: 1.536310 \tValidation Loss: 1.603899\n",
            "Epoch: 151 \tTraining Loss: 1.535808 \tValidation Loss: 1.604512\n",
            "Epoch: 156 \tTraining Loss: 1.530421 \tValidation Loss: 1.606490\n",
            "\n",
            "Testing the model\n",
            "\n",
            "Test Loss: 1.600348\n",
            "\n",
            "Test Accuracy of airplane: 84% (841/1000)\n",
            "Test Accuracy of automobile: 96% (965/1000)\n",
            "Test Accuracy of  bird: 77% (776/1000)\n",
            "Test Accuracy of   cat: 72% (723/1000)\n",
            "Test Accuracy of  deer: 85% (853/1000)\n",
            "Test Accuracy of   dog: 80% (805/1000)\n",
            "Test Accuracy of  frog: 90% (903/1000)\n",
            "Test Accuracy of horse: 92% (922/1000)\n",
            "Test Accuracy of  ship: 93% (938/1000)\n",
            "Test Accuracy of truck: 87% (875/1000)\n",
            "\n",
            "Test Accuracy (Overall): 86% (8601/10000)\n"
          ],
          "name": "stdout"
        }
      ]
    },
    {
      "cell_type": "code",
      "metadata": {
        "id": "sL9UvRrGZ3CQ",
        "colab_type": "code",
        "colab": {
          "base_uri": "https://localhost:8080/",
          "height": 907
        },
        "outputId": "1cf73baf-37a7-473a-9bbe-2cfd2eccfdb1"
      },
      "source": [
        "print(\"Storm Optimizer:\\n\")\n",
        "print(\"Training the model\\n\")\n",
        "train_losses3,test_losses3,train_accuracies3,test_accuracies3,train_time3=train_model(modelstorm,storm,160)\n",
        "modelstorm.load_state_dict(torch.load('model_augmented.pt'))\n",
        "print(\"\\nTesting the model\\n\")\n",
        "test_model(modelstorm)"
      ],
      "execution_count": null,
      "outputs": [
        {
          "output_type": "stream",
          "text": [
            "Storm Optimizer:\n",
            "\n",
            "Training the model\n",
            "\n",
            "Epoch: 1 \tTraining Loss: 1.830298 \tValidation Loss: 1.885457\n",
            "Epoch: 6 \tTraining Loss: 1.724349 \tValidation Loss: 1.766846\n",
            "Epoch: 11 \tTraining Loss: 1.687644 \tValidation Loss: 1.785998\n",
            "Epoch: 16 \tTraining Loss: 1.661453 \tValidation Loss: 1.702984\n",
            "Epoch: 21 \tTraining Loss: 1.641729 \tValidation Loss: 1.738448\n",
            "Epoch: 26 \tTraining Loss: 1.630945 \tValidation Loss: 1.686538\n",
            "Epoch: 31 \tTraining Loss: 1.617024 \tValidation Loss: 1.685978\n",
            "Epoch: 36 \tTraining Loss: 1.610115 \tValidation Loss: 1.702839\n",
            "Epoch: 41 \tTraining Loss: 1.603629 \tValidation Loss: 1.663431\n",
            "Epoch: 46 \tTraining Loss: 1.595706 \tValidation Loss: 1.664175\n",
            "Epoch: 51 \tTraining Loss: 1.587652 \tValidation Loss: 1.631151\n",
            "Epoch: 56 \tTraining Loss: 1.581379 \tValidation Loss: 1.724498\n",
            "Epoch: 61 \tTraining Loss: 1.578619 \tValidation Loss: 1.640625\n",
            "Epoch: 66 \tTraining Loss: 1.572973 \tValidation Loss: 1.642203\n",
            "Epoch: 71 \tTraining Loss: 1.567403 \tValidation Loss: 1.660166\n",
            "Epoch: 76 \tTraining Loss: 1.562670 \tValidation Loss: 1.637915\n",
            "Epoch: 81 \tTraining Loss: 1.562412 \tValidation Loss: 1.616468\n",
            "Epoch: 86 \tTraining Loss: 1.556938 \tValidation Loss: 1.622533\n",
            "Epoch: 91 \tTraining Loss: 1.554671 \tValidation Loss: 1.623665\n",
            "Epoch: 96 \tTraining Loss: 1.552862 \tValidation Loss: 1.628045\n",
            "Epoch: 101 \tTraining Loss: 1.550765 \tValidation Loss: 1.621016\n",
            "Epoch: 106 \tTraining Loss: 1.547544 \tValidation Loss: 1.599262\n",
            "Epoch: 111 \tTraining Loss: 1.546096 \tValidation Loss: 1.620940\n",
            "Epoch: 116 \tTraining Loss: 1.540804 \tValidation Loss: 1.607226\n",
            "Epoch: 121 \tTraining Loss: 1.538253 \tValidation Loss: 1.607030\n",
            "Epoch: 126 \tTraining Loss: 1.536407 \tValidation Loss: 1.602226\n",
            "Epoch: 131 \tTraining Loss: 1.533323 \tValidation Loss: 1.614637\n",
            "Epoch: 136 \tTraining Loss: 1.533619 \tValidation Loss: 1.610719\n",
            "Epoch: 141 \tTraining Loss: 1.530516 \tValidation Loss: 1.600488\n",
            "Epoch: 146 \tTraining Loss: 1.529449 \tValidation Loss: 1.606370\n",
            "Epoch: 151 \tTraining Loss: 1.527194 \tValidation Loss: 1.601612\n",
            "Epoch: 156 \tTraining Loss: 1.525364 \tValidation Loss: 1.603999\n",
            "\n",
            "Testing the model\n",
            "\n",
            "Test Loss: 1.590063\n",
            "\n",
            "Test Accuracy of airplane: 86% (864/1000)\n",
            "Test Accuracy of automobile: 92% (925/1000)\n",
            "Test Accuracy of  bird: 85% (851/1000)\n",
            "Test Accuracy of   cat: 63% (636/1000)\n",
            "Test Accuracy of  deer: 88% (881/1000)\n",
            "Test Accuracy of   dog: 86% (862/1000)\n",
            "Test Accuracy of  frog: 91% (917/1000)\n",
            "Test Accuracy of horse: 87% (878/1000)\n",
            "Test Accuracy of  ship: 94% (947/1000)\n",
            "Test Accuracy of truck: 94% (948/1000)\n",
            "\n",
            "Test Accuracy (Overall): 87% (8709/10000)\n"
          ],
          "name": "stdout"
        }
      ]
    },
    {
      "cell_type": "code",
      "metadata": {
        "id": "01dNa3K_LGJu",
        "colab_type": "code",
        "colab": {
          "base_uri": "https://localhost:8080/",
          "height": 295
        },
        "outputId": "8a26f04b-7b0a-4416-a8f8-4d5b19dbaaac"
      },
      "source": [
        "plt.title(\"Loss per epoch\")\n",
        "plt.xlabel(\"Epochs\")\n",
        "plt.ylabel(\"Train_loss\")\n",
        "plt.plot(train_losses1,color=\"b\",label=\"Adam\")\n",
        "plt.plot(train_losses2,color=\"orange\",label=\"Adgrad\")\n",
        "plt.plot(train_losses3,color=\"g\",label=\"Storm\")\n",
        "plt.legend()\n",
        "plt.show()"
      ],
      "execution_count": null,
      "outputs": [
        {
          "output_type": "display_data",
          "data": {
            "image/png": "[encoded data removed]",
            "text/plain": [
              "<Figure size 432x288 with 1 Axes>"
            ]
          },
          "metadata": {
            "tags": [],
            "needs_background": "light"
          }
        }
      ]
    },
    {
      "cell_type": "code",
      "metadata": {
        "id": "vNV1izeAL8Dm",
        "colab_type": "code",
        "colab": {
          "base_uri": "https://localhost:8080/",
          "height": 295
        },
        "outputId": "05b48b41-dbcd-44a0-b09b-b98aaf02fd69"
      },
      "source": [
        "plt.title(\"Loss per epoch\")\n",
        "plt.xlabel(\"Epochs\")\n",
        "plt.ylabel(\"Test_loss\")\n",
        "plt.plot(test_losses1,color=\"b\",label=\"Adam\")\n",
        "plt.plot(test_losses2,color=\"orange\",label=\"Adgrad\")\n",
        "plt.plot(test_losses3,color=\"g\",label=\"Storm\")\n",
        "plt.legend()\n",
        "plt.show()"
      ],
      "execution_count": null,
      "outputs": [
        {
          "output_type": "display_data",
          "data": {
            "image/png": "[encoded data removed]",
            "text/plain": [
              "<Figure size 432x288 with 1 Axes>"
            ]
          },
          "metadata": {
            "tags": [],
            "needs_background": "light"
          }
        }
      ]
    },
    {
      "cell_type": "code",
      "metadata": {
        "id": "IAou0oBEN77p",
        "colab_type": "code",
        "colab": {
          "base_uri": "https://localhost:8080/",
          "height": 295
        },
        "outputId": "ef2f37eb-c6e1-4283-e056-e12a9589f7e1"
      },
      "source": [
        "plt.title(\"Train Accuracy\")\n",
        "plt.xlabel(\"Epochs\")\n",
        "plt.ylabel(\"Train_accuracy\")\n",
        "plt.plot(train_accuracies1,color=\"b\",label=\"Adam\")\n",
        "plt.plot(train_accuracies2,color=\"orange\",label=\"Adgrad\")\n",
        "plt.plot(train_accuracies3,color=\"g\",label=\"Storm\")\n",
        "plt.legend()\n",
        "plt.show()"
      ],
      "execution_count": null,
      "outputs": [
        {
          "output_type": "display_data",
          "data": {
            "image/png": "[encoded data removed]",
            "text/plain": [
              "<Figure size 432x288 with 1 Axes>"
            ]
          },
          "metadata": {
            "tags": [],
            "needs_background": "light"
          }
        }
      ]
    },
    {
      "cell_type": "code",
      "metadata": {
        "id": "t2A6hg9SOC2b",
        "colab_type": "code",
        "colab": {
          "base_uri": "https://localhost:8080/",
          "height": 295
        },
        "outputId": "839df926-b163-4819-cf92-32faa6fc01a9"
      },
      "source": [
        "plt.title(\"Test Accuracy\")\n",
        "plt.xlabel(\"Epochs\")\n",
        "plt.ylabel(\"Test_accuracy\")\n",
        "plt.plot(test_accuracies1,color=\"b\",label=\"Adam\")\n",
        "plt.plot(test_accuracies2,color=\"orange\",label=\"Adgrad\")\n",
        "plt.plot(test_accuracies3,color=\"g\",label=\"Storm\")\n",
        "plt.legend()\n",
        "plt.show()"
      ],
      "execution_count": null,
      "outputs": [
        {
          "output_type": "display_data",
          "data": {
            "image/png": "[encoded data removed]",
            "text/plain": [
              "<Figure size 432x288 with 1 Axes>"
            ]
          },
          "metadata": {
            "tags": [],
            "needs_background": "light"
          }
        }
      ]
    },
    {
      "cell_type": "code",
      "metadata": {
        "id": "xoV7XiydxZnR",
        "colab_type": "code",
        "colab": {}
      },
      "source": [
        ""
      ],
      "execution_count": null,
      "outputs": []
    }
  ]
}